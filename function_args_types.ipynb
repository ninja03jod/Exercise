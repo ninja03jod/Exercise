{
  "nbformat": 4,
  "nbformat_minor": 0,
  "metadata": {
    "colab": {
      "provenance": [],
      "authorship_tag": "ABX9TyN9MF6EolIZ34uGXO24KLf4",
      "include_colab_link": true
    },
    "kernelspec": {
      "name": "python3",
      "display_name": "Python 3"
    },
    "language_info": {
      "name": "python"
    }
  },
  "cells": [
    {
      "cell_type": "markdown",
      "metadata": {
        "id": "view-in-github",
        "colab_type": "text"
      },
      "source": [
        "<a href=\"https://colab.research.google.com/github/ninja03jod/Exercise/blob/main/function_args_types.ipynb\" target=\"_parent\"><img src=\"https://colab.research.google.com/assets/colab-badge.svg\" alt=\"Open In Colab\"/></a>"
      ]
    },
    {
      "cell_type": "code",
      "execution_count": null,
      "metadata": {
        "id": "tIfXUD-ulGuW"
      },
      "outputs": [],
      "source": [
        "\"\"\"\n",
        "what is advantage of function\n",
        "- code re-usability\n",
        "- we can write code ones and call it for multiple times\n",
        "\n",
        "we supply the arguments of 4 types\n",
        "1) positional\n",
        "2) keyword\n",
        "3) default\n",
        "4) variable length\n",
        "\"\"\"\n"
      ]
    },
    {
      "cell_type": "code",
      "source": [
        "# positional arguments: sequence of order is matters\n",
        "def info(name,age):\n",
        "  print('name is: ',name)\n",
        "  print('age is: ',age)\n",
        "info('saad',22)\n",
        "# in positional arguments we have to put  argument as per sequence\n",
        "# if we conflict the positions of aguments like\n",
        "info(25,'sakib')\n",
        "# then it will execute but won't get hte output as expected"
      ],
      "metadata": {
        "colab": {
          "base_uri": "https://localhost:8080/"
        },
        "id": "zzkMLmzslqv5",
        "outputId": "4ddcba8e-a1f3-4304-8a20-317f0de00998"
      },
      "execution_count": null,
      "outputs": [
        {
          "output_type": "stream",
          "name": "stdout",
          "text": [
            "name is:  saad\n",
            "age is:  22\n",
            "name is:  25\n",
            "age is:  sakib\n"
          ]
        }
      ]
    },
    {
      "cell_type": "code",
      "source": [
        "# keyword arguments: sequence of order does not matters\n",
        "def infor(age,name,salary):\n",
        "  print('age is:',age)\n",
        "  print('name is:',name)\n",
        "  print('salary:',salary)\n",
        "infor(salary=30000,age=22,name='saad')\n",
        "infor(salary=50000,age=23,name='sakib')\n",
        "# sequence of order does not matters\n",
        "# we can access the keywords by manipulating position of keys with their values"
      ],
      "metadata": {
        "colab": {
          "base_uri": "https://localhost:8080/"
        },
        "id": "c35DIml3mpnp",
        "outputId": "865343f3-ad26-4cc8-8ff1-fa0248d30875"
      },
      "execution_count": null,
      "outputs": [
        {
          "output_type": "stream",
          "name": "stdout",
          "text": [
            "age is: 22\n",
            "name is: saad\n",
            "salary: 30000\n",
            "age is: 23\n",
            "name is: sakib\n",
            "salary: 50000\n"
          ]
        }
      ]
    },
    {
      "cell_type": "code",
      "source": [
        "# we can add values at the time of declaration for particular keywords\n",
        "def elig(per=76,backlog=1,ssc_per=92):\n",
        "  print('percentage:',per)\n",
        "  print('backlog:',backlog)\n",
        "  print('ssc percentage:',ssc_per)\n",
        "elig()\n"
      ],
      "metadata": {
        "colab": {
          "base_uri": "https://localhost:8080/"
        },
        "id": "xsc1gEQknc5i",
        "outputId": "e758508d-29d4-4f1c-da1b-251d7dc44a1b"
      },
      "execution_count": null,
      "outputs": [
        {
          "output_type": "stream",
          "name": "stdout",
          "text": [
            "percentage: 76\n",
            "backlog: 1\n",
            "ssc percentage: 92\n"
          ]
        }
      ]
    },
    {
      "cell_type": "code",
      "source": [
        "# in keywords and positional arguments we cant mixup random keywords to get values\n",
        "def ifrm(name,age,height):\n",
        "  print('name is:',name)\n",
        "  print('age:',age)\n",
        "  print('height is:',height)\n",
        "def ifrm(name='saad',22,5.6)\n",
        "#  it raises syntax error we cant access it\n",
        "# Because it does not allow keywords args before positional args\n"
      ],
      "metadata": {
        "colab": {
          "base_uri": "https://localhost:8080/",
          "height": 145
        },
        "id": "NQoL22uIobF3",
        "outputId": "fc1bbff6-2147-4474-865b-99bef8d43562"
      },
      "execution_count": null,
      "outputs": [
        {
          "output_type": "error",
          "ename": "SyntaxError",
          "evalue": "ignored",
          "traceback": [
            "\u001b[0;36m  File \u001b[0;32m\"<ipython-input-7-635a04cb2fa2>\"\u001b[0;36m, line \u001b[0;32m6\u001b[0m\n\u001b[0;31m    def ifrm(name='saad',22,5.6)\u001b[0m\n\u001b[0m                         ^\u001b[0m\n\u001b[0;31mSyntaxError\u001b[0m\u001b[0;31m:\u001b[0m invalid syntax\n"
          ]
        }
      ]
    },
    {
      "cell_type": "code",
      "source": [
        "def ifrm(name,age,height):\n",
        "  print('name is',name)\n",
        "  print('age',age)\n",
        "  print('height is',height)\n",
        "ifrm('saad',22,height=5.6)\n",
        "# if we wnt to mixup then we have to add keyword args at the end while calling"
      ],
      "metadata": {
        "colab": {
          "base_uri": "https://localhost:8080/"
        },
        "id": "2vEyQJunpk0n",
        "outputId": "1fb8ab3f-b4f7-4565-fb9e-b5775301346d"
      },
      "execution_count": null,
      "outputs": [
        {
          "output_type": "stream",
          "name": "stdout",
          "text": [
            "name is saad\n",
            "age 22\n",
            "height is 5.6\n"
          ]
        }
      ]
    },
    {
      "cell_type": "code",
      "source": [
        "# default arguments:\n",
        "# we can set some values as default if not provided while declaring\n",
        "# after that we call the new value it takes instead of default value\n",
        "def info(name='saad'):\n",
        "  print('name is:',name)\n",
        "info('sakib')\n",
        "\n",
        "def oddeve(num=43):\n",
        "  print(num,'number is even')\n",
        "oddeve(42)"
      ],
      "metadata": {
        "colab": {
          "base_uri": "https://localhost:8080/"
        },
        "id": "8I75lcV4rH8_",
        "outputId": "4d909632-fb61-470e-a2cf-fababaa54aa6"
      },
      "execution_count": null,
      "outputs": [
        {
          "output_type": "stream",
          "name": "stdout",
          "text": [
            "name is: sakib\n",
            "42 number is even\n"
          ]
        }
      ]
    },
    {
      "cell_type": "code",
      "source": [
        "# variable length arguments:\n",
        "# -variable length positional arguments:\n",
        "# - used to supply n numbers of values\n",
        "# by using *var\n",
        "\n",
        "def perform(*a):\n",
        "  return a\n",
        "print(perform(56,45,789,812,546,3,46))\n",
        "# output will get in tuple form\n",
        "# does not takes multiple args\n",
        "\n",
        "def add(*n):\n",
        "  print('index number with values',tuple(enumerate(n)))\n",
        "add(5687,78,98,12,45)\n"
      ],
      "metadata": {
        "colab": {
          "base_uri": "https://localhost:8080/"
        },
        "id": "x1owONUTtcoD",
        "outputId": "bc9843ce-2503-445f-ff18-32b925e58afe"
      },
      "execution_count": null,
      "outputs": [
        {
          "output_type": "stream",
          "name": "stdout",
          "text": [
            "(56, 45, 789, 812, 546, 3, 46)\n",
            "index number with values ((0, 5687), (1, 78), (2, 98), (3, 12), (4, 45))\n"
          ]
        }
      ]
    },
    {
      "cell_type": "code",
      "source": [
        "# variable length keywords arguments:\n",
        "# used to supply n numbers of keywords with their values\n",
        "# by using **kwargs\n",
        "\n",
        "def che(**n):\n",
        "  print('information',n)\n",
        "che(name='saad',age=22,salary=50000)\n",
        "\n",
        "# oupt will get in dictionary form\n",
        "\n",
        "def mx(**a):\n",
        "  print('maximum: ',max(a))\n",
        "mx(num1=45,num2=78,num3=-98,num4=975)"
      ],
      "metadata": {
        "colab": {
          "base_uri": "https://localhost:8080/"
        },
        "id": "eg_pZJxWub-w",
        "outputId": "f76d825b-03ae-4ca8-ccea-67bdb1e4e48d"
      },
      "execution_count": null,
      "outputs": [
        {
          "output_type": "stream",
          "name": "stdout",
          "text": [
            "information {'name': 'saad', 'age': 22, 'salary': 50000}\n",
            "maximum:  num4\n"
          ]
        }
      ]
    },
    {
      "cell_type": "code",
      "source": [
        "\"\"\"\n",
        "# positional arguments :\n",
        "- In this args sequence of order matters\n",
        "- while calling function we have to supply args as per sequence of order\n",
        "- we can access the values of varible by changing their positions but\n",
        "it wont give the output as expected\n",
        "\n",
        "# keywords arguments:\n",
        "- In keywords argument sequence of order does not matters\n",
        "- we can access the keywords and their values by manipulating positions of keywords\n",
        "- we can add keywords and their values while declaration\n",
        "- we can't mixup the random keyword and positional args it raises error due to it does not allow keyword args before positional args\n",
        "- if we want to mixup then we have to add keyowrd at the end position\n",
        "\n",
        "# defaul arguments:\n",
        "- we set some values as a default if value is not provided\n",
        "- If we call the new value in argument then it takes insteads of default\n",
        "\n",
        "# varible length arguments:\n",
        "\n",
        "1) variable length positional arguments:\n",
        "- In this args we access n numbers of values\n",
        "- we can use *var while declaring the function\n",
        "- It does not takes multiple args while declaration\n",
        "- output will get in Tuple form\n",
        "\n",
        "2) variable length keyowrds argument:\n",
        "- In this args we supply n  numbers of keywords and their values while calling\n",
        "- We use **var while declaring the function\n",
        "- It does not takes multiple args at the time of declaration\n",
        "- output will get in dictionary form\n",
        "\n",
        "# *args vs **kwargs:\n",
        "\n",
        "1) - *args takes positional arguments / values only\n",
        "   - **kwargs takes keywords arguments / keywords=values\n",
        "2) - output will get in Tuple form\n",
        "   - outputb will get in dictionary form\n",
        "\n",
        "# positional args vs keyword args:\n",
        "\n",
        "1) - In positional args sequence of order matters\n",
        "   - In keywords args sequence of order does not matters\n",
        "2) - Positional args takes values only while calling\n",
        "   - keyword args takes values and also keyword with their values while calling\n",
        "3) - In positional args at the time of calling we can change position of values\n",
        "and this will executes the code but it wont get output as per expectation\n",
        "   - In keyword args when we call the function\n",
        "we can manipulate the position of keywords and their values\n",
        "\n",
        "# WE CANNOT MIXUP THE RANDOM POSITIONAL AND KEYWORDS ARGUMENTS\n",
        "# IT DOES NOT ALLOWS KEYWORDS ARGUMENT BEFORE POSITIONAL ARGUMENTS\n",
        "# IF WE WANT TO CALL THE FUNCTION BY USING POSITIONAL AND KEYWORDS ARGUMENTS\n",
        "THEN WE HAVE TO PUT KEYWORD ARGUMENT AT THE END POSITION AFTER POSITIONAL ARGUMENT\n",
        "\"\"\""
      ],
      "metadata": {
        "id": "Itdk8kCvwxQ1"
      },
      "execution_count": null,
      "outputs": []
    }
  ]
}