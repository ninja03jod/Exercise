{
  "nbformat": 4,
  "nbformat_minor": 0,
  "metadata": {
    "colab": {
      "provenance": [],
      "authorship_tag": "ABX9TyOFdW6ViC8rBoI8i9w384/9",
      "include_colab_link": true
    },
    "kernelspec": {
      "name": "python3",
      "display_name": "Python 3"
    },
    "language_info": {
      "name": "python"
    }
  },
  "cells": [
    {
      "cell_type": "markdown",
      "metadata": {
        "id": "view-in-github",
        "colab_type": "text"
      },
      "source": [
        "<a href=\"https://colab.research.google.com/github/ninja03jod/Exercise/blob/main/Transfer_statements.ipynb\" target=\"_parent\"><img src=\"https://colab.research.google.com/assets/colab-badge.svg\" alt=\"Open In Colab\"/></a>"
      ]
    },
    {
      "cell_type": "code",
      "execution_count": 6,
      "metadata": {
        "colab": {
          "base_uri": "https://localhost:8080/",
          "height": 35
        },
        "id": "1K3XJTTBONwT",
        "outputId": "c5f3bcae-f192-493e-cfdb-e5b2edb63078"
      },
      "outputs": [
        {
          "output_type": "execute_result",
          "data": {
            "text/plain": [
              "'\\nTransfer Statements:\\nBreak : Break suspends currrent execution or \\nskip the current execution at moment or particular object\\n\\n'"
            ],
            "application/vnd.google.colaboratory.intrinsic+json": {
              "type": "string"
            }
          },
          "metadata": {},
          "execution_count": 6
        }
      ],
      "source": [
        "\"\"\"\n",
        "Transfer Statements:\n",
        "Break : Break suspends currrent execution or\n",
        "skip the current execution at moment or particular object\n",
        "\n",
        "\"\"\"\n",
        "\n",
        "\n"
      ]
    },
    {
      "cell_type": "code",
      "source": [
        "# Ex.\n",
        "for i in range(5):\n",
        "  if i == 3:\n",
        "    break\n",
        "  else:\n",
        "    print(i)"
      ],
      "metadata": {
        "colab": {
          "base_uri": "https://localhost:8080/"
        },
        "id": "MgIeyxgXQO0u",
        "outputId": "e01abbe1-5d56-4289-e099-c45bc4499563"
      },
      "execution_count": 13,
      "outputs": [
        {
          "output_type": "stream",
          "name": "stdout",
          "text": [
            "0\n",
            "1\n",
            "2\n"
          ]
        }
      ]
    },
    {
      "cell_type": "code",
      "source": [
        "a = ['saad','umar','ibrahim','saurabh']\n",
        "for i in a:\n",
        "  if i == 'ibrahim':\n",
        "    break\n",
        "  else:\n",
        "    print(i)"
      ],
      "metadata": {
        "colab": {
          "base_uri": "https://localhost:8080/"
        },
        "id": "qs_e5r3YRrgy",
        "outputId": "fd8e6686-887f-4489-e81d-a85f498ce04f"
      },
      "execution_count": 14,
      "outputs": [
        {
          "output_type": "stream",
          "name": "stdout",
          "text": [
            "saad\n",
            "umar\n"
          ]
        }
      ]
    },
    {
      "cell_type": "code",
      "source": [
        "a = [-98,89,-75,45,25,13,-56,-43]\n",
        "for i in a:\n",
        "  if i > 0: # This method breaks at particular object\n",
        "    break\n",
        "  else:\n",
        "    print(i)"
      ],
      "metadata": {
        "colab": {
          "base_uri": "https://localhost:8080/"
        },
        "id": "VW-7sO1DSAxN",
        "outputId": "3c2f59ea-0b0b-4160-ca9a-b1a4f751914d"
      },
      "execution_count": 17,
      "outputs": [
        {
          "output_type": "stream",
          "name": "stdout",
          "text": [
            "-98\n"
          ]
        }
      ]
    },
    {
      "cell_type": "code",
      "source": [
        "# continue :\n",
        "# This method is used to skip the element which r at True condition\n",
        "a = {-12,45,98,78,-54,65,-45,-98}\n",
        "for i in a:\n",
        "  if i > 0: # i > 0 means we r getting positive from this codition\n",
        "    continue # while using continue it skips elements at True condition\n",
        "  else:             # hence we will get output as -ve numbers from a\n",
        "    print(i)"
      ],
      "metadata": {
        "colab": {
          "base_uri": "https://localhost:8080/"
        },
        "id": "M7z8E_StSwsj",
        "outputId": "3cf50f6d-3b24-4c70-b687-5b730443e32f"
      },
      "execution_count": 18,
      "outputs": [
        {
          "output_type": "stream",
          "name": "stdout",
          "text": [
            "-54\n",
            "-45\n",
            "-12\n",
            "-98\n"
          ]
        }
      ]
    },
    {
      "cell_type": "markdown",
      "source": [],
      "metadata": {
        "id": "O_U30ppuOeCB"
      }
    },
    {
      "cell_type": "code",
      "source": [
        "# ps: show the free delivery items > 500\n",
        "a = (400,199,499,799,501,500,1900,1999)\n",
        "for items in a:\n",
        "  if items < 500: # it skips the price less than 500 because of using continue\n",
        "    continue\n",
        "  else: # while using continue it skips true condition element control switch to the else block\n",
        "    print('price of items is',i,'will get free delivery')"
      ],
      "metadata": {
        "colab": {
          "base_uri": "https://localhost:8080/"
        },
        "id": "38X1N3OURPPb",
        "outputId": "96dea654-08a2-4290-8612-9c5b8a6253df"
      },
      "execution_count": 22,
      "outputs": [
        {
          "output_type": "stream",
          "name": "stdout",
          "text": [
            "price of items is 1999 will get free delivery\n",
            "price of items is 1999 will get free delivery\n",
            "price of items is 1999 will get free delivery\n",
            "price of items is 1999 will get free delivery\n",
            "price of items is 1999 will get free delivery\n"
          ]
        }
      ]
    },
    {
      "cell_type": "code",
      "source": [
        "# ps : show the delivery charges for items < 500\n",
        "a = (400,199,499,799,501,500,1900,1999)\n",
        "for i in a:\n",
        "  if i > 500:\n",
        "    continue\n",
        "  else:\n",
        "    print('price of item is',i,'has Rs. 50 delivery charges applied')\n"
      ],
      "metadata": {
        "colab": {
          "base_uri": "https://localhost:8080/"
        },
        "id": "hYey12JtadDD",
        "outputId": "03a68b4a-7548-4632-f12f-2cd9a980d7f8"
      },
      "execution_count": 23,
      "outputs": [
        {
          "output_type": "stream",
          "name": "stdout",
          "text": [
            "price of item is 400 has Rs. 50 delivery charges applied\n",
            "price of item is 199 has Rs. 50 delivery charges applied\n",
            "price of item is 499 has Rs. 50 delivery charges applied\n",
            "price of item is 500 has Rs. 50 delivery charges applied\n"
          ]
        }
      ]
    },
    {
      "cell_type": "code",
      "source": [
        "# Ps : show the items with free delivery > 500\n",
        "# show the 50 Rs delivery charges applied < 500\n",
        "a = (400,199,499,799,501,500,1900,1999)\n",
        "for i in a:\n",
        "  if i > 500:\n",
        "# remember that if we have to print two statemnets in continue loop************\n",
        "# then we have to print above conitnue*********************\n",
        "    print('items with price',i,'will get free delivery')\n",
        "    continue\n",
        "  else:\n",
        "    print('items with price',i,'has Rs.50 charges applied')\n",
        "\n"
      ],
      "metadata": {
        "colab": {
          "base_uri": "https://localhost:8080/"
        },
        "id": "INY7ktSXcKWd",
        "outputId": "f7489e88-629c-457b-cf40-89be8e734f57"
      },
      "execution_count": 26,
      "outputs": [
        {
          "output_type": "stream",
          "name": "stdout",
          "text": [
            "items with price 400 has Rs.50 charges applied\n",
            "items with price 199 has Rs.50 charges applied\n",
            "items with price 499 has Rs.50 charges applied\n",
            "items with price 799 will get free delivery\n",
            "items with price 501 will get free delivery\n",
            "items with price 500 has Rs.50 charges applied\n",
            "items with price 1900 will get free delivery\n",
            "items with price 1999 will get free delivery\n"
          ]
        }
      ]
    },
    {
      "cell_type": "code",
      "source": [
        "# pass :\n",
        "# pass creats empty blcks\n",
        "# memory will not be allocated\n",
        "def a(num):\n",
        "  if num == 10:\n",
        "    pass\n",
        "c = a(10)\n",
        "print(c)\n"
      ],
      "metadata": {
        "colab": {
          "base_uri": "https://localhost:8080/"
        },
        "id": "1JIHXYy0drcc",
        "outputId": "f1ca4e4f-6e44-4381-f646-7e0ff97a8a98"
      },
      "execution_count": 29,
      "outputs": [
        {
          "output_type": "stream",
          "name": "stdout",
          "text": [
            "None\n"
          ]
        }
      ]
    },
    {
      "cell_type": "code",
      "source": [
        "\"\"\"\n",
        "Que:\n",
        "break vs continue\n",
        "- break suspend current execution or\n",
        "skips current execution at particular object\n",
        "- continue skips or suspend elements which r at True conditions\n",
        "\n",
        "- in break if condition is true then it will executes so\n",
        "control will not switch to else block\n",
        "\n",
        "Ex.\n",
        "a = [-98,89,-75,45,25,13,-56,-43]\n",
        "for i in a:\n",
        "  if i > 0: # This method breaks at particular object\n",
        "    break\n",
        "  else:\n",
        "    print(i)\n",
        "\n",
        "- in continue statement if condition is true\n",
        "then it skips elements at True conditions\n",
        "control will swtich to else block\n",
        "\n",
        "Ex.\n",
        "# ps : show the delivery charges for items < 500\n",
        "a = (400,199,499,799,501,500,1900,1999)\n",
        "for i in a:\n",
        "  if i > 500:\n",
        "    continue\n",
        "  else:\n",
        "    print('price of item is',i,'has Rs. 50 delivery charges applied')\n",
        "\n",
        "# similarity between continue and break\n",
        "1) both are condition based\n",
        "2) both skips current execution\n",
        "\n",
        "\"\"\""
      ],
      "metadata": {
        "id": "QBOcRs0_eyiM"
      },
      "execution_count": null,
      "outputs": []
    }
  ]
}