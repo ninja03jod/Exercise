{
  "nbformat": 4,
  "nbformat_minor": 0,
  "metadata": {
    "colab": {
      "provenance": [],
      "authorship_tag": "ABX9TyNIJsRKi+U6HAjzXfpPGHc1",
      "include_colab_link": true
    },
    "kernelspec": {
      "name": "python3",
      "display_name": "Python 3"
    },
    "language_info": {
      "name": "python"
    }
  },
  "cells": [
    {
      "cell_type": "markdown",
      "metadata": {
        "id": "view-in-github",
        "colab_type": "text"
      },
      "source": [
        "<a href=\"https://colab.research.google.com/github/ninja03jod/Exercise/blob/main/Pynative_Str_Ex.ipynb\" target=\"_parent\"><img src=\"https://colab.research.google.com/assets/colab-badge.svg\" alt=\"Open In Colab\"/></a>"
      ]
    },
    {
      "cell_type": "code",
      "source": [
        "# Excersies of String\n",
        "\n",
        "# Ex. Write a program to create a  new str made of an input string frist,middle and last chr\n",
        "inp_str = 'James'\n",
        "print('Original string is:',inp_str)\n",
        "s1= (inp_str[0],inp_str[2],inp_str[4])\n",
        "s2 = ''.join(s1)\n",
        "print('new string is:',s2)"
      ],
      "metadata": {
        "id": "ELb0yyyMZWvX",
        "colab": {
          "base_uri": "https://localhost:8080/"
        },
        "outputId": "69c4a1fd-dd73-48a8-91f2-6053bee56d4e"
      },
      "execution_count": null,
      "outputs": [
        {
          "output_type": "stream",
          "name": "stdout",
          "text": [
            "Original string is: James\n",
            "new string is: Jms\n"
          ]
        }
      ]
    },
    {
      "cell_type": "code",
      "source": [
        "# expected output = Mohsaad\n",
        "str1 = 'Mohmmadsaad'\n",
        "print('Original string is:',str1)\n",
        "s1 = (str1[:3])\n",
        "s2 = (str1[-4:])\n",
        "s3 = s1 + s2\n",
        "print('New string:',s3)"
      ],
      "metadata": {
        "colab": {
          "base_uri": "https://localhost:8080/"
        },
        "id": "OIK5k7HrxfhU",
        "outputId": "9a0fdcdb-ee9f-4e99-d25a-6ab43e3d841e"
      },
      "execution_count": null,
      "outputs": [
        {
          "output_type": "stream",
          "name": "stdout",
          "text": [
            "Original string is: Mohmmadsaad\n",
            "New string: Mohsaad\n"
          ]
        }
      ]
    },
    {
      "cell_type": "code",
      "source": [
        "str1 = 'James'\n",
        "print('Original string is',str1)\n",
        "\n",
        "# get first chr\n",
        "res = str1[0]\n",
        "\n",
        "l = len(str1)\n",
        "\n",
        "# get the middel chr index number\n",
        "mi = int(l/2)\n",
        "res = res + str1[mi]\n",
        "\n",
        "# get last chr\n",
        "res = res + str1[-1]\n",
        "print('new string',res)"
      ],
      "metadata": {
        "colab": {
          "base_uri": "https://localhost:8080/"
        },
        "id": "cUmF8JJJvP91",
        "outputId": "f07c1304-c001-4283-ca0b-447758cf2f56"
      },
      "execution_count": null,
      "outputs": [
        {
          "output_type": "stream",
          "name": "stdout",
          "text": [
            "Original string is James\n",
            "new string Jms\n"
          ]
        }
      ]
    },
    {
      "cell_type": "code",
      "source": [
        "# Write a program to create a new string made of the middle three characters of an input string.\n",
        "str1 = \"JhonDipPeta\"\n",
        "str2 = \"JaSonAy\"\n",
        "print('Original string is:',str1)\n",
        "s1 = str1[4:7]\n",
        "print('New string is:',s1)\n",
        "print('Original string is:',str2)\n",
        "s2 = str2[2:5]\n",
        "print('New string is:',s2)"
      ],
      "metadata": {
        "colab": {
          "base_uri": "https://localhost:8080/"
        },
        "id": "mPZHsuFcyi3F",
        "outputId": "953575e1-d2dc-4a57-d15a-8dedb7bf7dd2"
      },
      "execution_count": null,
      "outputs": [
        {
          "output_type": "stream",
          "name": "stdout",
          "text": [
            "Original string is: JhonDipPeta\n",
            "New string is: Dip\n",
            "Original string is: JaSonAy\n",
            "New string is: Son\n"
          ]
        }
      ]
    },
    {
      "cell_type": "code",
      "source": [
        "# Given two strings, s1 and s2.\n",
        "# Write a program to create a new string s3 by appending s2 in the middle of s1.\n",
        "s1 = 'Ault'\n",
        "s2 = 'Kelly'\n",
        "print('original string is:',s1,'\\n',s2)\n",
        "s3 = s1[:2] + s2 + s1[2:]\n",
        "print('new string is:',s3)"
      ],
      "metadata": {
        "id": "0Xibf6g70Kab",
        "colab": {
          "base_uri": "https://localhost:8080/"
        },
        "outputId": "23ccc794-b2ff-4bdb-c833-a5d79988542f"
      },
      "execution_count": null,
      "outputs": [
        {
          "output_type": "stream",
          "name": "stdout",
          "text": [
            "original string is: Ault \n",
            " Kelly\n",
            "new string is: AuKellylt\n"
          ]
        }
      ]
    },
    {
      "cell_type": "code",
      "source": [
        "# Given two strings, s1 and s2,write a program to return a new string made of s1 and s2’s first, middle, and last characters.\n",
        "s1 = 'America'\n",
        "s2 = 'Japan'\n",
        "print('original strings are:',s1,'\\n',s2)\n",
        "s3 = s1[0]+s2[0]\n",
        "s4 = s3 + s1 [3] + s2 [2]\n",
        "s5 = s4 + s1[6] + s2 [4]\n",
        "result = s5\n",
        "print('new string of s1 and s2 is:',result)"
      ],
      "metadata": {
        "colab": {
          "base_uri": "https://localhost:8080/"
        },
        "id": "K2wL5Buzb1s8",
        "outputId": "9540cc44-56d1-44f8-d2c6-c82b7408fa17"
      },
      "execution_count": null,
      "outputs": [
        {
          "output_type": "stream",
          "name": "stdout",
          "text": [
            "original strings are: America \n",
            " Japan\n",
            "new string of s1 and s2 is: AJrpan\n"
          ]
        }
      ]
    },
    {
      "cell_type": "code",
      "source": [
        "s1 = 'America'\n",
        "s2 = 'Japan'\n",
        "print('original strings are:',s1,'\\n',s2)\n",
        "# get he first chr\n",
        "res = s1[0] + s2[0]\n",
        "\n",
        "# length\n",
        "l1 = len(s1)\n",
        "l2 = len(s2)\n",
        "\n",
        "# get the middle chr\n",
        "mi1 = int(l1/2)\n",
        "mi2 = int(l2/2)\n",
        "res = res + s1[mi1] + s2[mi2]\n",
        "\n",
        "# get last chr\n",
        "res = res + s1[-1] + s2[-1]\n",
        "print('new string:',res)"
      ],
      "metadata": {
        "colab": {
          "base_uri": "https://localhost:8080/"
        },
        "id": "8tzZO94zdpIi",
        "outputId": "19a4f9b0-e4f7-4d65-d0ca-11132c71cea3"
      },
      "execution_count": null,
      "outputs": [
        {
          "output_type": "stream",
          "name": "stdout",
          "text": [
            "original strings are: America \n",
            " Japan\n",
            "new string: AJrpan\n"
          ]
        }
      ]
    },
    {
      "cell_type": "code",
      "source": [
        "# Given string contains a combination of the lower and upper case letters.\n",
        "# Write a program to arrange the characters of a string so that all lowercase letters should come first.\n",
        "stri = 'PyNaTive'\n",
        "print('original string:',stri)\n",
        "a = stri[0]+stri[2]+stri[4]\n",
        "b = stri[1]+stri[3]+stri[5:]\n",
        "result = b+a\n",
        "print('new string:',result)"
      ],
      "metadata": {
        "colab": {
          "base_uri": "https://localhost:8080/"
        },
        "id": "HWmlp_tNfSh7",
        "outputId": "343460ef-3ad7-42df-f722-9e7892003a65"
      },
      "execution_count": null,
      "outputs": [
        {
          "output_type": "stream",
          "name": "stdout",
          "text": [
            "original string: PyNaTive\n",
            "new string: yaivePNT\n"
          ]
        }
      ]
    },
    {
      "cell_type": "code",
      "source": [
        "stri = 'PyNaTive'\n",
        "print('original string:',stri)\n",
        "lower=[]\n",
        "upper=[]\n",
        "for chr in stri:\n",
        "  if chr.islower():\n",
        "    lower.append(chr)\n",
        "  else:\n",
        "    upper.append(chr)\n",
        "\n",
        "new_str = ''.join(lower+upper)\n",
        "print('new string:',new_str)\n",
        "\n",
        "# join method of string is used to join the comma seperated value in list and tuple also\n"
      ],
      "metadata": {
        "colab": {
          "base_uri": "https://localhost:8080/"
        },
        "id": "MyZBeSt7iFpM",
        "outputId": "d910ec60-b1cc-4188-fccc-868699b3c809"
      },
      "execution_count": null,
      "outputs": [
        {
          "output_type": "stream",
          "name": "stdout",
          "text": [
            "original string: PyNaTive\n",
            "new string: yaivePNT\n"
          ]
        }
      ]
    },
    {
      "cell_type": "code",
      "source": [
        "a1 = 'AtTrIBute'\n",
        "# print upper case letters first and then lowercase letters\n",
        "print('original string:',a1)\n",
        "a2 = a1[0] + a1[2] + a1[4:6]\n",
        "a3 = a2 + a1[1] + a1[3] + a1[6:]\n",
        "res = a3\n",
        "print('New string:',res)"
      ],
      "metadata": {
        "colab": {
          "base_uri": "https://localhost:8080/"
        },
        "id": "nCEwDzCtWz_A",
        "outputId": "455e0a13-fbd1-477b-a124-a324faa93e35"
      },
      "execution_count": null,
      "outputs": [
        {
          "output_type": "stream",
          "name": "stdout",
          "text": [
            "original string: AtTrIBute\n",
            "New string: ATIBtrute\n"
          ]
        }
      ]
    },
    {
      "cell_type": "code",
      "source": [
        "# lets solve this problem by for loop\n",
        "a1 = 'At1TrI3Bu6te'\n",
        "upper = []\n",
        "lower = []\n",
        "digits = []\n",
        "print('original stringL:',a1)\n",
        "for chr in a1:\n",
        "  if chr.isupper():\n",
        "    upper.append(chr)\n",
        "  elif chr.islower():\n",
        "    lower.append(chr)\n",
        "  else:\n",
        "    digits.append(chr)\n",
        "new_str = ''.join(upper + lower + digits)\n",
        "print(new_str)"
      ],
      "metadata": {
        "colab": {
          "base_uri": "https://localhost:8080/"
        },
        "id": "VLb6GF0JX0AB",
        "outputId": "5242b525-1b40-4e93-ed5e-da8156b9e5be"
      },
      "execution_count": null,
      "outputs": [
        {
          "output_type": "stream",
          "name": "stdout",
          "text": [
            "original stringL: At1TrI3Bu6te\n",
            "ATIBtrute136\n"
          ]
        }
      ]
    },
    {
      "cell_type": "code",
      "source": [
        "# print first letters, digits, and special symbols from a given string\n",
        "str2 = \"P@#yn26at^&i5ve\"\n",
        "print('original string:',str2)\n",
        "upper = []\n",
        "lower = []\n",
        "dig = []\n",
        "sym = []\n",
        "for i in str2:\n",
        "  if i.islower():\n",
        "    lower.append(i)\n",
        "  elif i.isupper():\n",
        "    upper.append(i)\n",
        "  elif i.isdigit():\n",
        "    dig.append(i)\n",
        "  else:\n",
        "    sym.append(i)\n",
        "new_str = ''.join(lower+upper+dig+sym)\n",
        "print(new_str)"
      ],
      "metadata": {
        "colab": {
          "base_uri": "https://localhost:8080/"
        },
        "id": "P-RAqpVOabk3",
        "outputId": "9d29b1f7-957e-49d0-c770-86049550d34f"
      },
      "execution_count": null,
      "outputs": [
        {
          "output_type": "stream",
          "name": "stdout",
          "text": [
            "original string: P@#yn26at^&i5ve\n",
            "ynativeP265@#^&\n"
          ]
        }
      ]
    },
    {
      "cell_type": "code",
      "source": [
        "# Count all letters, digits, and special symbols from a given string\n",
        "str1 = \"P@#yn26at^&i5ve\"\n",
        "def cnt(str1):\n",
        "  chr_count = 0\n",
        "  digit_count = 0\n",
        "  sym_count = 0\n",
        "  for i in str1:\n",
        "    if i.isalpha():\n",
        "      chr_count +=1\n",
        "    elif i.isdigit():\n",
        "      digit_count +=1\n",
        "    else:\n",
        "      sym_count +=1\n",
        "  print('chars =',chr_count,'Digits =',digit_count,'Symbols =',sym_count)\n",
        "print(str1)\n",
        "print('count of all letters,digits and symbols form str1 \\n')\n",
        "cnt(str1)"
      ],
      "metadata": {
        "colab": {
          "base_uri": "https://localhost:8080/"
        },
        "id": "OfQrG0IkjRJk",
        "outputId": "a7b62cff-6078-4b17-bff4-ad3fc55effd1"
      },
      "execution_count": null,
      "outputs": [
        {
          "output_type": "stream",
          "name": "stdout",
          "text": [
            "P@#yn26at^&i5ve\n",
            "count of all letters,digits and symbols form str1 \n",
            "\n",
            "chars = 8 Digits = 3 Symbols = 4\n"
          ]
        }
      ]
    },
    {
      "cell_type": "code",
      "source": [
        "s1 = 'atT98*/R32iBu*Te>'\n",
        "print(\"original string:\",s1)\n",
        "# count all letters,digits and symbols\n",
        "def count(s1):\n",
        "  cnt_let = 0\n",
        "  cnt_dig = 0\n",
        "  cnt_sym = 0\n",
        "  for i in s1:\n",
        "    if i.isalpha():\n",
        "      cnt_let +=1\n",
        "    elif i.isdigit():\n",
        "      cnt_dig +=1\n",
        "    else:\n",
        "      cnt_sym +=1\n",
        "  print('letters are',cnt_let)\n",
        "  print('digits are',cnt_dig)\n",
        "  print('symbols are',cnt_sym)\n",
        "count(s1)"
      ],
      "metadata": {
        "colab": {
          "base_uri": "https://localhost:8080/"
        },
        "id": "y2FKoMn7cLeh",
        "outputId": "b00a09b0-65b7-4479-e03b-b7f5736eb50c"
      },
      "execution_count": null,
      "outputs": [
        {
          "output_type": "stream",
          "name": "stdout",
          "text": [
            "original string: atT98*/R32iBu*Te>\n",
            "letters are 9\n",
            "digits are 4\n",
            "symbols are 4\n"
          ]
        }
      ]
    },
    {
      "cell_type": "code",
      "source": [
        "# Given two strings, s1 and s2. Write a program to create a new string s3\n",
        "# made of the first char of s1, then the last char of s2,\n",
        "# Next, the second char of s1 and second last char of s2, and so on. Any leftover chars go at the end of the result.\n",
        "s1 = 'Abc'\n",
        "s2 = 'xyz'\n",
        "print('original string:',s1,'\\n',s2)\n",
        "a = s1[0] + s2[-1]\n",
        "a1 = a + s1[1] + s2 [-2]\n",
        "a2 = a1 + s1[2] + s2[-3]\n",
        "s3 = a2\n",
        "print('new string:',s3)"
      ],
      "metadata": {
        "colab": {
          "base_uri": "https://localhost:8080/"
        },
        "id": "73UqPS9vgnZw",
        "outputId": "05c24fb4-8f7d-4712-e441-1f691a82c182"
      },
      "execution_count": null,
      "outputs": [
        {
          "output_type": "stream",
          "name": "stdout",
          "text": [
            "original string: Abc \n",
            " xyz\n",
            "new string: Azbycx\n"
          ]
        }
      ]
    },
    {
      "cell_type": "code",
      "source": [
        "s1 = 'Abc'\n",
        "s2 = 'xyz'\n",
        "# get first chr of s1 and last chr from s2\n",
        "res = s1[0] + s2[-1]\n",
        "\n",
        "# get middle chr of s1+ second last chr of s2\n",
        "l1 = len(s1)\n",
        "l2 = len(s2)\n",
        "\n",
        "mi1 = int(l1/2)\n",
        "mi2 = int(l2/2)\n",
        "res = res + s1[mi1] + s2[mi2]\n",
        "\n",
        "# get last chr of s1 and first chr of s2\n",
        "res = res + s1[-1] + s2[0]\n",
        "print('new string:',res)"
      ],
      "metadata": {
        "colab": {
          "base_uri": "https://localhost:8080/"
        },
        "id": "QF3JpZl2h3t-",
        "outputId": "a685f2e2-689a-4af8-a330-34de9fbf3a7a"
      },
      "execution_count": null,
      "outputs": [
        {
          "output_type": "stream",
          "name": "stdout",
          "text": [
            "new string: Azbycx\n"
          ]
        }
      ]
    },
    {
      "cell_type": "code",
      "source": [
        "# Write a program to check if two strings are balanced.\n",
        "# For example, strings s1 and s2 are balanced if all the characters in the s1 are present in s2.\n",
        "# The character’s position doesn’t matter.\n",
        "s1 = \"Yn\"\n",
        "s2 = \"PYnative\"\n",
        "def str_bal(s1,s2):\n",
        "  con = True\n",
        "  for chr in s1:\n",
        "    if chr in s2:\n",
        "      continue\n",
        "    else :\n",
        "      con = False\n",
        "  return con\n",
        "con = str_bal(s1,s2)\n",
        "print('new string:',con)\n",
        "print(str_bal(s1,s2))\n",
        "str_bal('Ynf','PYnative')"
      ],
      "metadata": {
        "id": "S7P06xxzjNDQ",
        "colab": {
          "base_uri": "https://localhost:8080/"
        },
        "outputId": "09cb91a7-bf1f-4282-a5b9-bc898aa2150c"
      },
      "execution_count": null,
      "outputs": [
        {
          "output_type": "stream",
          "name": "stdout",
          "text": [
            "new string: True\n",
            "True\n"
          ]
        },
        {
          "output_type": "execute_result",
          "data": {
            "text/plain": [
              "False"
            ]
          },
          "metadata": {},
          "execution_count": 6
        }
      ]
    },
    {
      "cell_type": "code",
      "source": [
        "a1 = 'aad'\n",
        "a2 = 'Mohmmadsaad'\n",
        "def str_bal(a1,a2):\n",
        "  condition = True\n",
        "  for chr in a1:\n",
        "    if chr in a2:\n",
        "      continue\n",
        "    else:\n",
        "      condition = False\n",
        "  return condition\n",
        "condition = str_bal(a1,a2)\n",
        "print('New string:',condition)\n",
        "str_bal(a1,a2)\n",
        "print(str_bal('Hmm','Mohmmadsaad'))"
      ],
      "metadata": {
        "colab": {
          "base_uri": "https://localhost:8080/"
        },
        "id": "m2tnOYjc91cQ",
        "outputId": "b85ed403-8ec9-4e43-f0ec-cb0eff00f4e8"
      },
      "execution_count": null,
      "outputs": [
        {
          "output_type": "stream",
          "name": "stdout",
          "text": [
            "New string: True\n",
            "False\n"
          ]
        }
      ]
    },
    {
      "cell_type": "code",
      "source": [
        "# Write a program to find all occurrences of “USA” in a given string ignoring the case.\n",
        "str1 = \"Welcome to USA. usa awesome, isn't it?\"\n",
        "sub_str = 'USA'\n",
        "\n",
        "# conver into lower\n",
        "temp_str = str1.lower()\n",
        "\n",
        "# count\n",
        "count = temp_str.count(sub_str.lower())\n",
        "print('The count of USA is:',count)\n",
        "\n",
        "\n",
        "\n"
      ],
      "metadata": {
        "colab": {
          "base_uri": "https://localhost:8080/"
        },
        "id": "EbWESNiA-7-9",
        "outputId": "0e342d21-7f4a-4823-d8c7-0da4be6ac3b3"
      },
      "execution_count": null,
      "outputs": [
        {
          "output_type": "stream",
          "name": "stdout",
          "text": [
            "The count of USA is: 2\n"
          ]
        }
      ]
    },
    {
      "cell_type": "code",
      "source": [
        "s1 = \"Welcome to USA. usa awesome, isn't it?\"\n",
        "sub_str = 'usa'\n",
        "\n",
        "tem_str = s1.upper()\n",
        "\n",
        "count = tem_str.count(sub_str.upper())\n",
        "print('the USA count is:',count)"
      ],
      "metadata": {
        "colab": {
          "base_uri": "https://localhost:8080/"
        },
        "id": "eifHfhboCQZh",
        "outputId": "74e42726-21bf-4055-946f-a09417a7e5d2"
      },
      "execution_count": null,
      "outputs": [
        {
          "output_type": "stream",
          "name": "stdout",
          "text": [
            "the USA count is: 2\n"
          ]
        }
      ]
    },
    {
      "cell_type": "code",
      "source": [
        "# Given a string s1, write a program to return the sum and average of the digits that appear in the string, ignoring all other characters.\n",
        "a = \"PYnative29@#8496\"\n",
        "sum = 0\n",
        "cnt = 0\n",
        "for chr in a:\n",
        "  if chr.isdigit():\n",
        "    sum += int(chr)\n",
        "    cnt += 1\n",
        "average = sum / cnt\n",
        "print('Sum is:',sum,'Average is:',average)"
      ],
      "metadata": {
        "colab": {
          "base_uri": "https://localhost:8080/"
        },
        "id": "o2Fk7FVBEerO",
        "outputId": "ed8344c0-c056-4b9d-9d89-2dc0022bcefb"
      },
      "execution_count": null,
      "outputs": [
        {
          "output_type": "stream",
          "name": "stdout",
          "text": [
            "Sum is: 38 Average is: 6.333333333333333\n"
          ]
        }
      ]
    },
    {
      "cell_type": "code",
      "source": [
        "s = 'Pushd*-/*65sada456897'\n",
        "add = 0\n",
        "cnt = 0\n",
        "for chr in s:\n",
        "  if chr.isdigit():\n",
        "    add += int(chr)\n",
        "    cnt += 1\n",
        "avg = add / cnt\n",
        "print('Sum is:',add,'Avergae is:',avg)\n",
        "\n"
      ],
      "metadata": {
        "colab": {
          "base_uri": "https://localhost:8080/"
        },
        "id": "UTA9iHCArTcj",
        "outputId": "a496d428-e8d4-43d5-b3bb-5c5c9194ade3"
      },
      "execution_count": null,
      "outputs": [
        {
          "output_type": "stream",
          "name": "stdout",
          "text": [
            "Sum is: 50 Avergae is: 6.25\n"
          ]
        }
      ]
    },
    {
      "cell_type": "code",
      "source": [
        "# Write a program to count occurrences of all characters within a string\n",
        "str1 = \"Apple\"\n",
        "cnt_dict = dict()\n",
        "for chr in str1:\n",
        "  count = str1.count(chr)\n",
        "  cnt_dict[chr] = count\n",
        "\n",
        "print(cnt_dict)\n"
      ],
      "metadata": {
        "colab": {
          "base_uri": "https://localhost:8080/"
        },
        "id": "OJLF9j-ksAUQ",
        "outputId": "6d3fecf1-906c-40c3-a314-c1ecc4e20ed7"
      },
      "execution_count": null,
      "outputs": [
        {
          "output_type": "stream",
          "name": "stdout",
          "text": [
            "{'A': 1, 'p': 2, 'l': 1, 'e': 1}\n"
          ]
        }
      ]
    },
    {
      "cell_type": "code",
      "source": [
        "d = 'kjhsallisssd'\n",
        "s1 = dict()\n",
        "for chr in d:\n",
        "  count = d.count(chr)\n",
        "  s1[chr] = count\n",
        "print(s1)"
      ],
      "metadata": {
        "colab": {
          "base_uri": "https://localhost:8080/"
        },
        "id": "Zx3uM4pNwic5",
        "outputId": "46fdeb90-6c75-4748-99a6-5e81bc0dd837"
      },
      "execution_count": null,
      "outputs": [
        {
          "output_type": "stream",
          "name": "stdout",
          "text": [
            "{'k': 1, 'j': 1, 'h': 1, 's': 4, 'a': 1, 'l': 2, 'i': 1, 'd': 1}\n"
          ]
        }
      ]
    },
    {
      "cell_type": "code",
      "source": [
        "# Reverse a given string\n",
        "str1 = 'PYnative'\n",
        "print(str1[::-1])\n",
        "\n",
        "print(list(reversed(str1)))\n",
        "s1 = ''.join(reversed(str1))\n",
        "print(s1)"
      ],
      "metadata": {
        "colab": {
          "base_uri": "https://localhost:8080/"
        },
        "id": "lmva5B_byTdu",
        "outputId": "1c14b8e4-1f06-416a-e9ee-fe95f689322d"
      },
      "execution_count": null,
      "outputs": [
        {
          "output_type": "stream",
          "name": "stdout",
          "text": [
            "evitanYP\n",
            "['e', 'v', 'i', 't', 'a', 'n', 'Y', 'P']\n",
            "evitanYP\n"
          ]
        }
      ]
    },
    {
      "cell_type": "code",
      "source": [
        "# Write a program to find the last position of a substring “Emma” in a given string.\n",
        "a1 = \"Emma is a data scientist who knows Python. Emma works at google.\"\n",
        "res = a1.rfind('Emma')\n",
        "print('Last occurance of Emma starts at index',res)"
      ],
      "metadata": {
        "colab": {
          "base_uri": "https://localhost:8080/"
        },
        "id": "xcJGRlpVy16-",
        "outputId": "eaf64ccf-ec71-4af9-a1ce-8087481ec68e"
      },
      "execution_count": null,
      "outputs": [
        {
          "output_type": "stream",
          "name": "stdout",
          "text": [
            "Last occurance of Emma starts at index 43\n"
          ]
        }
      ]
    },
    {
      "cell_type": "code",
      "source": [
        "# Write a program to split a given string on hyphens and display each substring.\n",
        "s1 = 'Emma-is-a-data-scientist'\n",
        "a1 = s1.split('-')\n",
        "print(a1)\n",
        "print('Displaying each substring')\n",
        "for i in a1:\n",
        "  print(i)"
      ],
      "metadata": {
        "colab": {
          "base_uri": "https://localhost:8080/"
        },
        "id": "5MCspCHnzFJl",
        "outputId": "7a1e037a-6122-48ee-eeb8-f1752e678409"
      },
      "execution_count": null,
      "outputs": [
        {
          "output_type": "stream",
          "name": "stdout",
          "text": [
            "['Emma', 'is', 'a', 'data', 'scientist']\n",
            "Displaying each substring\n",
            "Emma\n",
            "is\n",
            "a\n",
            "data\n",
            "scientist\n"
          ]
        }
      ]
    },
    {
      "cell_type": "code",
      "source": [
        "# Remove empty strings from a list of strings\n",
        "str_list = [\"Emma\", \"Jon\", \"\", \"Kelly\", None, \"Eric\", \"\"]\n",
        "res_list = []\n",
        "for i in str_list:\n",
        "  if i:\n",
        "    res_list.append(i)\n",
        "print(res_list)"
      ],
      "metadata": {
        "colab": {
          "base_uri": "https://localhost:8080/"
        },
        "id": "RtUtUhzs1l3G",
        "outputId": "77ca9a4b-3674-48ba-fc40-55d60c1a982c"
      },
      "execution_count": null,
      "outputs": [
        {
          "output_type": "stream",
          "name": "stdout",
          "text": [
            "['Emma', 'Jon', 'Kelly', 'Eric']\n"
          ]
        }
      ]
    },
    {
      "cell_type": "code",
      "source": [],
      "metadata": {
        "id": "k2gD34Oj4S4l"
      },
      "execution_count": null,
      "outputs": []
    }
  ]
}