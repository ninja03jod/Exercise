{
  "nbformat": 4,
  "nbformat_minor": 0,
  "metadata": {
    "colab": {
      "provenance": [],
      "authorship_tag": "ABX9TyP6KA2AUryQ16L3Skw35WCs",
      "include_colab_link": true
    },
    "kernelspec": {
      "name": "python3",
      "display_name": "Python 3"
    },
    "language_info": {
      "name": "python"
    }
  },
  "cells": [
    {
      "cell_type": "markdown",
      "metadata": {
        "id": "view-in-github",
        "colab_type": "text"
      },
      "source": [
        "<a href=\"https://colab.research.google.com/github/ninja03jod/Exercise/blob/main/Lambda_func_assignments_on_args.ipynb\" target=\"_parent\"><img src=\"https://colab.research.google.com/assets/colab-badge.svg\" alt=\"Open In Colab\"/></a>"
      ]
    },
    {
      "cell_type": "code",
      "execution_count": 6,
      "metadata": {
        "colab": {
          "base_uri": "https://localhost:8080/"
        },
        "id": "smtzBDt-R2Sw",
        "outputId": "7d41f590-7bbc-45ed-8cb1-60a8375f3b1b"
      },
      "outputs": [
        {
          "output_type": "stream",
          "name": "stdout",
          "text": [
            "56\n",
            "('saad', 22)\n",
            "+ve\n"
          ]
        }
      ],
      "source": [
        "# Check the 4 types of arguments in Lambda function\n",
        "# 1) Positional arguments:\n",
        "\n",
        "#Ex:\n",
        "add = lambda x,y:x*y\n",
        "print(add(7,8))\n",
        "\n",
        "info = lambda nme,age:(nme,age)\n",
        "print(info('saad',22))\n",
        "\n",
        "number = lambda num:'+ve' if num >= 0 else '-ve'\n",
        "print(number(45))"
      ]
    },
    {
      "cell_type": "code",
      "source": [
        "# 2) keywords arguments:\n",
        "\n",
        "#Ex.\n",
        "info = lambda name,age,salary:(name,age,salary)\n",
        "print(info(salary=30000,age=22,name='saurabh'))\n",
        "\n",
        "info = lambda name='sid',age=25,salary=150000:(name,age,salary)\n",
        "print(info())\n",
        "\n"
      ],
      "metadata": {
        "colab": {
          "base_uri": "https://localhost:8080/"
        },
        "id": "KDAw6HQGTIba",
        "outputId": "41c6a28d-a882-4e08-9408-50674acbb45d"
      },
      "execution_count": 9,
      "outputs": [
        {
          "output_type": "stream",
          "name": "stdout",
          "text": [
            "('saurabh', 22, 30000)\n",
            "('sid', 25, 150000)\n"
          ]
        }
      ]
    },
    {
      "cell_type": "code",
      "source": [
        "# 3) default arguments:\n",
        "\n",
        "# Ex.\n",
        "default = lambda x=44:x\n",
        "print(default(43))\n",
        "\n",
        "a1 = lambda a,b,c=48:(a,b,c)\n",
        "print(a1('sakib','tejas',c=57))\n",
        "\n",
        "# get the output as even by changing default value\n",
        "eve = lambda num =43 : 'even' if num %2 == 0 else 'odd'\n",
        "print(eve(44))"
      ],
      "metadata": {
        "colab": {
          "base_uri": "https://localhost:8080/"
        },
        "id": "xK6utNACWib4",
        "outputId": "35a411ce-78e2-4fba-ef4b-01a5cc3be172"
      },
      "execution_count": 17,
      "outputs": [
        {
          "output_type": "stream",
          "name": "stdout",
          "text": [
            "43\n",
            "('sakib', 'tejas', 57)\n",
            "even\n"
          ]
        }
      ]
    },
    {
      "cell_type": "code",
      "source": [
        "# 4) variable length argument:\n",
        "# - variable length positional arguments\n",
        "\n",
        "#Ex.\n",
        "val = lambda *n:n\n",
        "print(val(6+8+79+65+4,45+65,6+98))\n",
        "\n",
        "multi = lambda *a:a\n",
        "print(multi(9*9,7*7,8*8,6*6,4*4,5*5,3*3,1*1,2*2))"
      ],
      "metadata": {
        "colab": {
          "base_uri": "https://localhost:8080/"
        },
        "id": "K9IpzqQhZxq8",
        "outputId": "0a8cf760-b194-4234-939c-7336bac1fd28"
      },
      "execution_count": 24,
      "outputs": [
        {
          "output_type": "stream",
          "name": "stdout",
          "text": [
            "(162, 110, 104)\n",
            "(81, 49, 64, 36, 16, 25, 9, 1, 4)\n"
          ]
        }
      ]
    },
    {
      "cell_type": "code",
      "source": [
        "# - variable length kewords argument:\n",
        "\n",
        "#Ex.\n",
        "a1 = lambda **n:n\n",
        "print(a1(name='saad',city='karad',age=22))\n",
        "\n",
        "a1 = lambda **n:n.get('name')\n",
        "print(a1(name='saad',city='karad',age=22))\n"
      ],
      "metadata": {
        "colab": {
          "base_uri": "https://localhost:8080/"
        },
        "id": "rMQXTH5dcADy",
        "outputId": "4d8809db-fa62-41c9-d6da-fe90afa62195"
      },
      "execution_count": 35,
      "outputs": [
        {
          "output_type": "stream",
          "name": "stdout",
          "text": [
            "{'name': 'saad', 'city': 'karad', 'age': 22}\n",
            "saad\n"
          ]
        }
      ]
    }
  ]
}