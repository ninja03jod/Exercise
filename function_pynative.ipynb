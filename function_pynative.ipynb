{
  "nbformat": 4,
  "nbformat_minor": 0,
  "metadata": {
    "colab": {
      "provenance": [],
      "authorship_tag": "ABX9TyOq/jARV+lyNGw/geabdfi3",
      "include_colab_link": true
    },
    "kernelspec": {
      "name": "python3",
      "display_name": "Python 3"
    },
    "language_info": {
      "name": "python"
    }
  },
  "cells": [
    {
      "cell_type": "markdown",
      "metadata": {
        "id": "view-in-github",
        "colab_type": "text"
      },
      "source": [
        "<a href=\"https://colab.research.google.com/github/ninja03jod/Exercise/blob/main/function_pynative.ipynb\" target=\"_parent\"><img src=\"https://colab.research.google.com/assets/colab-badge.svg\" alt=\"Open In Colab\"/></a>"
      ]
    },
    {
      "cell_type": "code",
      "execution_count": null,
      "metadata": {
        "colab": {
          "base_uri": "https://localhost:8080/"
        },
        "id": "3f9n63E7_SXa",
        "outputId": "9baa0691-220c-4490-92c9-2cefcbb094e1"
      },
      "outputs": [
        {
          "output_type": "stream",
          "name": "stdout",
          "text": [
            "name is: saad\n",
            "age is: 22\n"
          ]
        }
      ],
      "source": [
        "# Write a program to create a function that takes two arguments, name and age, and print their value.\n",
        "def info(name,age):\n",
        "  print('name is:',name)\n",
        "  print('age is:',age)\n",
        "info('saad',22)"
      ]
    },
    {
      "cell_type": "code",
      "source": [
        "# Write a program to create function func1() to accept a variable length of arguments and print their value.\n",
        "# call function with 3 arguments\n",
        "#func1(20, 40, 60)\n",
        "\n",
        "# call function with 2 arguments\n",
        "#func1(80, 100)\n",
        "\n",
        "def func1(*a):\n",
        "  for i in a:\n",
        "    print(i)\n",
        "func1(20,40,60)\n",
        "func1(80,100)"
      ],
      "metadata": {
        "colab": {
          "base_uri": "https://localhost:8080/"
        },
        "id": "0yrMw5Vp_x1R",
        "outputId": "5a077782-c30e-4524-dc23-6ab324d7657c"
      },
      "execution_count": null,
      "outputs": [
        {
          "output_type": "stream",
          "name": "stdout",
          "text": [
            "20\n",
            "40\n",
            "60\n",
            "80\n",
            "100\n"
          ]
        }
      ]
    },
    {
      "cell_type": "code",
      "source": [
        "# Write a program to create function calculation() such that it can accept two variables and calculate addition and subtraction.\n",
        "# Also, it must return both addition and subtraction in a single return call.\n",
        "def cal(a,b):\n",
        "  return a+b,a-b\n",
        "print(cal(40,10))"
      ],
      "metadata": {
        "colab": {
          "base_uri": "https://localhost:8080/"
        },
        "id": "Jj2P4mNoBHa1",
        "outputId": "ea60515b-daac-4569-aea1-9c0a22664770"
      },
      "execution_count": null,
      "outputs": [
        {
          "output_type": "stream",
          "name": "stdout",
          "text": [
            "(50, 30)\n"
          ]
        }
      ]
    },
    {
      "cell_type": "code",
      "source": [
        "def cal(a,b):\n",
        "  print(a+b,a-b)\n",
        "cal(40,10)"
      ],
      "metadata": {
        "colab": {
          "base_uri": "https://localhost:8080/"
        },
        "id": "uYC-Z_zyBjwa",
        "outputId": "a8fa0800-9d4d-4418-bf4c-3e68328f3f70"
      },
      "execution_count": null,
      "outputs": [
        {
          "output_type": "stream",
          "name": "stdout",
          "text": [
            "50 30\n"
          ]
        }
      ]
    },
    {
      "cell_type": "code",
      "source": [
        "# Write a program to create a function show_employee() using the following conditions.\n",
        "# It should accept the employee’s name and salary and display both.\n",
        "# If the salary is missing in the function call then assign default value 9000 to salary\n",
        "def show_employee(name,salary=9000):\n",
        "  print('name:',name,'salary:',salary)\n",
        "show_employee('ben',12000)\n",
        "show_employee('jessa')"
      ],
      "metadata": {
        "colab": {
          "base_uri": "https://localhost:8080/"
        },
        "id": "JWPFdMgFBscx",
        "outputId": "df2f5f87-15c5-4dd8-caca-9ed0e6351c66"
      },
      "execution_count": null,
      "outputs": [
        {
          "output_type": "stream",
          "name": "stdout",
          "text": [
            "name: ben salary: 12000\n",
            "name: jessa salary: 9000\n"
          ]
        }
      ]
    },
    {
      "cell_type": "code",
      "source": [
        "# Create an outer function that will accept two parameters, a and b\n",
        "# Create an inner function inside an outer function that will calculate the addition of a and b\n",
        "# At last, an outer function will add 5 into addition and return it\n",
        "def outer_func(a,b):\n",
        "  def inner_func(a,b):\n",
        "     return a+b\n",
        "  inner_func(a,b)\n",
        "  return inner_func(a,b)+5\n",
        "print(outer_func(5,10))"
      ],
      "metadata": {
        "colab": {
          "base_uri": "https://localhost:8080/"
        },
        "id": "B5BUpy06C26D",
        "outputId": "5553ec5d-6340-4da1-ca11-8a4ccd3a6c91"
      },
      "execution_count": null,
      "outputs": [
        {
          "output_type": "stream",
          "name": "stdout",
          "text": [
            "20\n"
          ]
        }
      ]
    },
    {
      "cell_type": "code",
      "source": [
        "# Write a program to create a recursive function to calculate the sum of numbers from 0 to 10.\n",
        "def add(*a):\n",
        "  print('sum is:',a)\n",
        "add(sum(range(1,11)))"
      ],
      "metadata": {
        "colab": {
          "base_uri": "https://localhost:8080/"
        },
        "id": "lO3RFxIuHoQh",
        "outputId": "85f08ebb-e760-4e38-d536-be7832ddbebf"
      },
      "execution_count": null,
      "outputs": [
        {
          "output_type": "stream",
          "name": "stdout",
          "text": [
            "sum is: (55,)\n"
          ]
        }
      ]
    },
    {
      "cell_type": "code",
      "source": [
        "def add(a):\n",
        "  s = 0\n",
        "  for i in range(1,a+1):\n",
        "    s +=i\n",
        "  print(s)\n",
        "add(10)"
      ],
      "metadata": {
        "colab": {
          "base_uri": "https://localhost:8080/"
        },
        "id": "_E293kCfIEnf",
        "outputId": "0f056f5e-ee25-47c1-c1d2-162287a212b7"
      },
      "execution_count": null,
      "outputs": [
        {
          "output_type": "stream",
          "name": "stdout",
          "text": [
            "55\n"
          ]
        }
      ]
    },
    {
      "cell_type": "code",
      "source": [
        "def show_student(name,age):\n",
        "  def display_student(name, age):\n",
        "      print(name, age)\n",
        "\n",
        "  add = display_student(\"Emma\", 26)\n",
        "show_student('emma',26)"
      ],
      "metadata": {
        "colab": {
          "base_uri": "https://localhost:8080/"
        },
        "id": "rP_0tLI9JR2Z",
        "outputId": "86d11bc8-4469-4044-a24e-15cea51a15f6"
      },
      "execution_count": null,
      "outputs": [
        {
          "output_type": "stream",
          "name": "stdout",
          "text": [
            "Emma 26\n"
          ]
        }
      ]
    },
    {
      "cell_type": "code",
      "source": [
        "def display_student(name, age):\n",
        "      print(name, age)\n",
        "\n",
        "display_student(\"Emma\", 26)\n",
        "\n",
        "show_student = display_student\n",
        "show_student('emma',26)"
      ],
      "metadata": {
        "colab": {
          "base_uri": "https://localhost:8080/"
        },
        "id": "ZWm3V5Q8JxJC",
        "outputId": "d66aba44-7c73-43ed-f5ea-c020035c9d63"
      },
      "execution_count": null,
      "outputs": [
        {
          "output_type": "stream",
          "name": "stdout",
          "text": [
            "Emma 26\n",
            "emma 26\n"
          ]
        }
      ]
    },
    {
      "cell_type": "code",
      "source": [
        "print([i for i in range(4,31,2)])"
      ],
      "metadata": {
        "colab": {
          "base_uri": "https://localhost:8080/"
        },
        "id": "JplD2rngKKtw",
        "outputId": "849b223d-0137-411f-80cb-734b07d0970c"
      },
      "execution_count": null,
      "outputs": [
        {
          "output_type": "stream",
          "name": "stdout",
          "text": [
            "[4, 6, 8, 10, 12, 14, 16, 18, 20, 22, 24, 26, 28, 30]\n"
          ]
        }
      ]
    },
    {
      "cell_type": "code",
      "source": [
        "print(list(range(4,31,2)))"
      ],
      "metadata": {
        "colab": {
          "base_uri": "https://localhost:8080/"
        },
        "id": "1Og1ZlHPKhEw",
        "outputId": "101908e6-e830-4c05-a3a5-14c91c348f1e"
      },
      "execution_count": null,
      "outputs": [
        {
          "output_type": "stream",
          "name": "stdout",
          "text": [
            "[4, 6, 8, 10, 12, 14, 16, 18, 20, 22, 24, 26, 28, 30]\n"
          ]
        }
      ]
    },
    {
      "cell_type": "code",
      "source": [
        "x = [4, 6, 8, 24, 12, 2]\n",
        "max(x)"
      ],
      "metadata": {
        "colab": {
          "base_uri": "https://localhost:8080/"
        },
        "id": "r95PBPihKnAv",
        "outputId": "80614d3d-91fe-467d-f2e9-1cc67f29298b"
      },
      "execution_count": null,
      "outputs": [
        {
          "output_type": "execute_result",
          "data": {
            "text/plain": [
              "24"
            ]
          },
          "metadata": {},
          "execution_count": 39
        }
      ]
    },
    {
      "cell_type": "code",
      "source": [
        "from functools import reduce\n",
        "x = [4, 6, 8, 24, 12, 2]\n",
        "print(reduce(lambda x,y : max(x,y),x))"
      ],
      "metadata": {
        "colab": {
          "base_uri": "https://localhost:8080/"
        },
        "id": "vP2BzFnwMMS2",
        "outputId": "2167a290-f172-4547-fd4d-19f0d7538855"
      },
      "execution_count": null,
      "outputs": [
        {
          "output_type": "stream",
          "name": "stdout",
          "text": [
            "24\n"
          ]
        }
      ]
    },
    {
      "cell_type": "code",
      "source": [
        "def maxi(a):\n",
        "  x = [4, 6, 8, 24, 12, 2]\n",
        "  x.sort()\n",
        "  print(x[a])\n",
        "maxi(-1)"
      ],
      "metadata": {
        "colab": {
          "base_uri": "https://localhost:8080/"
        },
        "id": "mmca_TJ7K03X",
        "outputId": "7c23894d-3846-4f17-e777-68aabdd5e629"
      },
      "execution_count": null,
      "outputs": [
        {
          "output_type": "stream",
          "name": "stdout",
          "text": [
            "24\n"
          ]
        }
      ]
    }
  ]
}