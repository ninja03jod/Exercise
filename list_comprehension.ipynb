{
  "nbformat": 4,
  "nbformat_minor": 0,
  "metadata": {
    "colab": {
      "provenance": [],
      "authorship_tag": "ABX9TyNxfjDK5xDO5HbvIdWnfP8X",
      "include_colab_link": true
    },
    "kernelspec": {
      "name": "python3",
      "display_name": "Python 3"
    },
    "language_info": {
      "name": "python"
    }
  },
  "cells": [
    {
      "cell_type": "markdown",
      "metadata": {
        "id": "view-in-github",
        "colab_type": "text"
      },
      "source": [
        "<a href=\"https://colab.research.google.com/github/ninja03jod/Exercise/blob/main/list_comprehension.ipynb\" target=\"_parent\"><img src=\"https://colab.research.google.com/assets/colab-badge.svg\" alt=\"Open In Colab\"/></a>"
      ]
    },
    {
      "cell_type": "code",
      "execution_count": 3,
      "metadata": {
        "colab": {
          "base_uri": "https://localhost:8080/"
        },
        "id": "Kw8qFKhzrQKo",
        "outputId": "e5ee50d5-94e7-4b8b-a4a2-9f0eb0b38486"
      },
      "outputs": [
        {
          "output_type": "stream",
          "name": "stdout",
          "text": [
            "[8, 64, 512]\n"
          ]
        }
      ],
      "source": [
        "# List comprehension:\n",
        "# It is a way to create a simple code\n",
        "# it makes one line faster solution and output will get in list form\n",
        "\n",
        "# syntax:\n",
        "# [expression for var in iterable]\n",
        "\n",
        "# ps : generate list of cube\n",
        "a = [2,4,8]\n",
        "print([i**3 for i in a])"
      ]
    },
    {
      "cell_type": "code",
      "source": [
        "a = [2,3,4]\n",
        "print([sum(a) for i in a])"
      ],
      "metadata": {
        "colab": {
          "base_uri": "https://localhost:8080/"
        },
        "id": "eWMkz6RCtQ9F",
        "outputId": "a1197a3e-49a6-4058-aa85-d78d568a3845"
      },
      "execution_count": 7,
      "outputs": [
        {
          "output_type": "stream",
          "name": "stdout",
          "text": [
            "[9, 9, 9]\n"
          ]
        }
      ]
    },
    {
      "cell_type": "code",
      "source": [
        "# ps : convert names in uppercase\n",
        "a = ['saad','umar','ibrahim','saqlain']\n",
        "print([i.upper() for i in a])"
      ],
      "metadata": {
        "colab": {
          "base_uri": "https://localhost:8080/"
        },
        "id": "UfsZ1--Ht7IO",
        "outputId": "4ad64cf5-ca13-4793-f0bc-245915098651"
      },
      "execution_count": 8,
      "outputs": [
        {
          "output_type": "stream",
          "name": "stdout",
          "text": [
            "['SAAD', 'UMAR', 'IBRAHIM', 'SAQLAIN']\n"
          ]
        }
      ]
    },
    {
      "cell_type": "code",
      "source": [
        "# ps : fetch the elements at even index and show o/p in list of list\n",
        "a = ['saad','umar','ibrahim','saqlain']\n",
        "print([[a[i]] for i in range(0,len(a),2)])"
      ],
      "metadata": {
        "colab": {
          "base_uri": "https://localhost:8080/"
        },
        "id": "WEJW_KTLuZ1a",
        "outputId": "b9106827-fc23-47a7-9d03-937fce611b6d"
      },
      "execution_count": 13,
      "outputs": [
        {
          "output_type": "stream",
          "name": "stdout",
          "text": [
            "[['saad'], ['ibrahim']]\n"
          ]
        }
      ]
    },
    {
      "cell_type": "code",
      "source": [
        "# ps: fetching the objects at even index by converting them into upper and show o/p in list of list\n",
        "a = ['saad','umar','ibrahim','saqlain']\n",
        "print([[a[i].upper()] for i in range(0,len(a),2)])"
      ],
      "metadata": {
        "colab": {
          "base_uri": "https://localhost:8080/"
        },
        "id": "2BniSsS9vPb8",
        "outputId": "2779c2e2-07bb-43dc-cb5b-d306a79320d2"
      },
      "execution_count": 14,
      "outputs": [
        {
          "output_type": "stream",
          "name": "stdout",
          "text": [
            "[['SAAD'], ['IBRAHIM']]\n"
          ]
        }
      ]
    },
    {
      "cell_type": "code",
      "source": [
        "# ps : convert saad by sakib\n",
        "a = ['saad','umar','ibrahim','saqlain']\n",
        "print([i.replace('saad','sakib') for i in a])"
      ],
      "metadata": {
        "colab": {
          "base_uri": "https://localhost:8080/"
        },
        "id": "grDT7CK8vmka",
        "outputId": "6c99589b-80cd-4d38-84f3-9b082c488985"
      },
      "execution_count": 18,
      "outputs": [
        {
          "output_type": "stream",
          "name": "stdout",
          "text": [
            "['sakib', 'umar', 'ibrahim', 'saqlain']\n"
          ]
        }
      ]
    },
    {
      "cell_type": "code",
      "source": [
        "# ps: return a list by multiplying 100 in each object\n",
        "s = [12,45,98,78,65,32]\n",
        "print([i*100 for i in s])"
      ],
      "metadata": {
        "colab": {
          "base_uri": "https://localhost:8080/"
        },
        "id": "q5fiCqfxwD2a",
        "outputId": "88b867ec-c01e-4efc-df1e-7c142122ddf7"
      },
      "execution_count": 20,
      "outputs": [
        {
          "output_type": "stream",
          "name": "stdout",
          "text": [
            "[1200, 4500, 9800, 7800, 6500, 3200]\n"
          ]
        }
      ]
    },
    {
      "cell_type": "code",
      "source": [
        "# ps : return the list of list and show the index number with their element\n",
        "s = [12,45,98,78,65,32]\n",
        "print([[list(enumerate(s))]for i in s])"
      ],
      "metadata": {
        "colab": {
          "base_uri": "https://localhost:8080/"
        },
        "id": "u2WFk5l4xRjM",
        "outputId": "505ac08c-6578-4006-84d3-653b01a4a189"
      },
      "execution_count": 23,
      "outputs": [
        {
          "output_type": "stream",
          "name": "stdout",
          "text": [
            "[[[(0, 12), (1, 45), (2, 98), (3, 78), (4, 65), (5, 32)]], [[(0, 12), (1, 45), (2, 98), (3, 78), (4, 65), (5, 32)]], [[(0, 12), (1, 45), (2, 98), (3, 78), (4, 65), (5, 32)]], [[(0, 12), (1, 45), (2, 98), (3, 78), (4, 65), (5, 32)]], [[(0, 12), (1, 45), (2, 98), (3, 78), (4, 65), (5, 32)]], [[(0, 12), (1, 45), (2, 98), (3, 78), (4, 65), (5, 32)]]]\n"
          ]
        }
      ]
    },
    {
      "cell_type": "code",
      "source": [
        "# ps: return a number and its square in list of list\n",
        "s = [12,45,98,78,65,32]\n",
        "print([[i,i**2] for i in s])"
      ],
      "metadata": {
        "colab": {
          "base_uri": "https://localhost:8080/"
        },
        "id": "KupPZyynyDCu",
        "outputId": "4c3f7d2e-af4c-4b14-8b1e-97e19267c00d"
      },
      "execution_count": 26,
      "outputs": [
        {
          "output_type": "stream",
          "name": "stdout",
          "text": [
            "[[12, 144], [45, 2025], [98, 9604], [78, 6084], [65, 4225], [32, 1024]]\n"
          ]
        }
      ]
    },
    {
      "cell_type": "code",
      "source": [
        "# ps :return the list of even index element\n",
        "a = [22,34,55,1,2,99,45,84,66]\n",
        "print([a[i] for i in range(0,len(a),2)])"
      ],
      "metadata": {
        "colab": {
          "base_uri": "https://localhost:8080/"
        },
        "id": "qvV7Dj4Ky7SD",
        "outputId": "6bf9170c-369a-4054-c5a0-3cb6880c4b7a"
      },
      "execution_count": 32,
      "outputs": [
        {
          "output_type": "stream",
          "name": "stdout",
          "text": [
            "[22, 55, 2, 45, 66]\n"
          ]
        }
      ]
    },
    {
      "cell_type": "code",
      "source": [
        "# ps : give the range and fetch the odd & even numbers\n",
        "print([[i,'even'] if i%2 == 0 else [i,'odd'] for i in range(1,21)])"
      ],
      "metadata": {
        "colab": {
          "base_uri": "https://localhost:8080/"
        },
        "id": "RPqjY9MQ0By9",
        "outputId": "06a837bd-2c7d-44a1-c13d-a105b1c53342"
      },
      "execution_count": 33,
      "outputs": [
        {
          "output_type": "stream",
          "name": "stdout",
          "text": [
            "[[1, 'odd'], [2, 'even'], [3, 'odd'], [4, 'even'], [5, 'odd'], [6, 'even'], [7, 'odd'], [8, 'even'], [9, 'odd'], [10, 'even'], [11, 'odd'], [12, 'even'], [13, 'odd'], [14, 'even'], [15, 'odd'], [16, 'even'], [17, 'odd'], [18, 'even'], [19, 'odd'], [20, 'even']]\n"
          ]
        }
      ]
    },
    {
      "cell_type": "code",
      "source": [
        "# ps: write a program to get 35% discount for buying above 4500 clothes\n",
        "a = [int(input('enter buying price: '))]\n",
        "print(['customer gets 35% discount' if i >= 4500 else 'price is under Rs. 4500' for i in a])"
      ],
      "metadata": {
        "colab": {
          "base_uri": "https://localhost:8080/"
        },
        "id": "OxtOruMM0iBJ",
        "outputId": "17093731-4d6c-4a3d-a473-3f70ca72bab5"
      },
      "execution_count": 41,
      "outputs": [
        {
          "output_type": "stream",
          "name": "stdout",
          "text": [
            "enter buying price: 4800\n",
            "['customer gets 35% discount']\n"
          ]
        }
      ]
    },
    {
      "cell_type": "code",
      "source": [
        "# ps : fetch the elements avail at even index and they are divisible by 2\n",
        "a = [198,299,798,499,998,1900,99]\n",
        "print([[a[i],'divisible by 20'] if a[i] %2 == 0 else [a[i],'not divisible bby 2'] for i in range(0,len(a),2)])"
      ],
      "metadata": {
        "colab": {
          "base_uri": "https://localhost:8080/"
        },
        "id": "YaRJaV3W2mia",
        "outputId": "d588a648-5698-4ae8-9338-5804c6de9ffe"
      },
      "execution_count": 42,
      "outputs": [
        {
          "output_type": "stream",
          "name": "stdout",
          "text": [
            "[[198, 'divisible by 20'], [798, 'divisible by 20'], [998, 'divisible by 20'], [99, 'not divisible bby 2']]\n"
          ]
        }
      ]
    },
    {
      "cell_type": "code",
      "source": [
        "a = [[j for j in range(5)] for i in range(3)]\n",
        "print(a)"
      ],
      "metadata": {
        "colab": {
          "base_uri": "https://localhost:8080/"
        },
        "id": "_FnI-p0P3kYG",
        "outputId": "2b4e6bb4-b27a-4dd1-d56c-76baf3457601"
      },
      "execution_count": 43,
      "outputs": [
        {
          "output_type": "stream",
          "name": "stdout",
          "text": [
            "[[0, 1, 2, 3, 4], [0, 1, 2, 3, 4], [0, 1, 2, 3, 4]]\n"
          ]
        }
      ]
    },
    {
      "cell_type": "code",
      "source": [
        "# ps : fetch the elements which r divisible by 5 and 10\n",
        "a = [25,45,860,150,1800,785]\n",
        "print([[i,'divisible by 5 and 10']if i%5 ==0 or if i%10 == 0 for i in a]) # we can't use if after if before for loop"
      ],
      "metadata": {
        "colab": {
          "base_uri": "https://localhost:8080/",
          "height": 140
        },
        "id": "nNedQd4B3spv",
        "outputId": "e60275c5-45c4-4c6e-de7a-976cb638e48f"
      },
      "execution_count": 45,
      "outputs": [
        {
          "output_type": "error",
          "ename": "SyntaxError",
          "evalue": "ignored",
          "traceback": [
            "\u001b[0;36m  File \u001b[0;32m\"<ipython-input-45-0a210887ddfe>\"\u001b[0;36m, line \u001b[0;32m3\u001b[0m\n\u001b[0;31m    print([[i,'divisible by 5 and 10']if i%5 ==0 or if i%10 == 0 for i in a]) # we can't use if after if before for loop\u001b[0m\n\u001b[0m           ^\u001b[0m\n\u001b[0;31mSyntaxError\u001b[0m\u001b[0;31m:\u001b[0m expected 'else' after 'if' expression\n"
          ]
        }
      ]
    },
    {
      "cell_type": "code",
      "source": [
        "# ps : fetch the elements which r divisible by 5 and 10\n",
        "a = [25,45,860,150,1800,785]\n",
        "print([[i,'divisible by 5 and 10'] for i in a if i %5 ==0 if i%10 ==0]) # we can use if after if after for loop"
      ],
      "metadata": {
        "colab": {
          "base_uri": "https://localhost:8080/"
        },
        "id": "y2vEBYuu4Wz7",
        "outputId": "45434ef3-bd12-4059-86ed-daaf4db07cd0"
      },
      "execution_count": 48,
      "outputs": [
        {
          "output_type": "stream",
          "name": "stdout",
          "text": [
            "[[860, 'divisible by 5 and 10'], [150, 'divisible by 5 and 10'], [1800, 'divisible by 5 and 10']]\n"
          ]
        }
      ]
    },
    {
      "cell_type": "code",
      "source": [
        "# ps: give the range 50 and fetch elements divisible by 5 & 2\n",
        "print([[i,'divisible by 5 & 2']for i in range(51) if i %2 ==0 if i%5 ==0])"
      ],
      "metadata": {
        "colab": {
          "base_uri": "https://localhost:8080/"
        },
        "id": "TNDM4A8X5FKD",
        "outputId": "44faa04b-5f62-4646-a294-cb5aad307fa8"
      },
      "execution_count": 49,
      "outputs": [
        {
          "output_type": "stream",
          "name": "stdout",
          "text": [
            "[[0, 'divisible by 5 & 2'], [10, 'divisible by 5 & 2'], [20, 'divisible by 5 & 2'], [30, 'divisible by 5 & 2'], [40, 'divisible by 5 & 2'], [50, 'divisible by 5 & 2']]\n"
          ]
        }
      ]
    }
  ]
}