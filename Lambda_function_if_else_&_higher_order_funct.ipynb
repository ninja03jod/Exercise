{
  "nbformat": 4,
  "nbformat_minor": 0,
  "metadata": {
    "colab": {
      "provenance": [],
      "authorship_tag": "ABX9TyP0FpFn4XLwxAfGdSRe7oEJ",
      "include_colab_link": true
    },
    "kernelspec": {
      "name": "python3",
      "display_name": "Python 3"
    },
    "language_info": {
      "name": "python"
    }
  },
  "cells": [
    {
      "cell_type": "markdown",
      "metadata": {
        "id": "view-in-github",
        "colab_type": "text"
      },
      "source": [
        "<a href=\"https://colab.research.google.com/github/ninja03jod/Exercise/blob/main/Lambda_function_if_else_%26_higher_order_funct.ipynb\" target=\"_parent\"><img src=\"https://colab.research.google.com/assets/colab-badge.svg\" alt=\"Open In Colab\"/></a>"
      ]
    },
    {
      "cell_type": "code",
      "execution_count": null,
      "metadata": {
        "id": "o8WJAy-LKJvu"
      },
      "outputs": [],
      "source": [
        "\"\"\"\n",
        "Lambda is Anonymous or Nameless function\n",
        "It use to write a function without name and it has simple structure\n",
        "Syntax:\n",
        "lambda parametre/s:expression\n",
        "parameter can be add one or more\n",
        "expression - operation/method\n",
        "\n",
        "\"\"\""
      ]
    },
    {
      "cell_type": "code",
      "source": [
        "# normal function vs lambda function\n",
        "\n",
        "def sq(num):\n",
        "  return num*num\n",
        "print(sq(10))\n",
        "# normal function contains more methods\n",
        "# we have to write the return statement\n",
        "# sq is function\n",
        "def sq1(num):\n",
        "  print(num*num)\n",
        "print(sq1)\n",
        "\n",
        "# sq of num:\n",
        "sq = lambda n:n*n\n",
        "print(sq(10))\n",
        "\n",
        "# lambda function contains less methods\n",
        "# retrun is bydefault in lambda function\n",
        "# sq is reference to the lambda function\n",
        "print(sq)\n",
        "\n",
        "\n",
        "# which one is better:\n",
        "# - Depends according to the requirment\n",
        "# - for short concise we can use lambda\n",
        "# - for complex and multiple lines of code we can use normal function"
      ],
      "metadata": {
        "colab": {
          "base_uri": "https://localhost:8080/"
        },
        "id": "aoqZhkmHLOHJ",
        "outputId": "011d0a7c-a2a5-4723-fca0-40752289b5c5"
      },
      "execution_count": null,
      "outputs": [
        {
          "output_type": "stream",
          "name": "stdout",
          "text": [
            "100\n",
            "<function sq1 at 0x79c2d76b25f0>\n",
            "100\n",
            "<function <lambda> at 0x79c2d76b27a0>\n"
          ]
        }
      ]
    },
    {
      "cell_type": "code",
      "source": [
        "# convert name is uppercase\n",
        "con = lambda name: name.upper()\n",
        "print(con('saad'))\n",
        "\n",
        "# reverse\n",
        "rev = lambda nme : nme[::-1]\n",
        "print(rev('mohmmadsaad bagwan'))"
      ],
      "metadata": {
        "colab": {
          "base_uri": "https://localhost:8080/"
        },
        "id": "5ws0XXASPV5o",
        "outputId": "afa81b23-fe04-4eb2-a8e8-b51d165726bf"
      },
      "execution_count": null,
      "outputs": [
        {
          "output_type": "stream",
          "name": "stdout",
          "text": [
            "SAAD\n",
            "nawgab daasdammhom\n"
          ]
        }
      ]
    },
    {
      "cell_type": "code",
      "source": [
        "# we can supply multiple args\n",
        "a = lambda x,y,z:x+y+z\n",
        "print(a(7,8,9))\n",
        "\n",
        "# b = lambda x,y,z: x+y,y+z,z+X # it will raise an error we cannot add directly\n",
        "b = lambda x,y,z: (x+y,y+z,z+x)\n",
        "print(b(9,8,7))"
      ],
      "metadata": {
        "colab": {
          "base_uri": "https://localhost:8080/"
        },
        "id": "KtNExZViQja7",
        "outputId": "f42b1429-7ea9-488b-d610-8af7e32bef8e"
      },
      "execution_count": null,
      "outputs": [
        {
          "output_type": "stream",
          "name": "stdout",
          "text": [
            "24\n",
            "(17, 15, 16)\n"
          ]
        }
      ]
    },
    {
      "cell_type": "code",
      "source": [
        "# solve problems usingb if else\n",
        "clt = lambda price: '30% discount will be applied' if price >=4500 else 'price is under 4500'\n",
        "print(clt(3500))\n",
        "print(clt(4500))\n",
        "print(clt(4550))"
      ],
      "metadata": {
        "colab": {
          "base_uri": "https://localhost:8080/"
        },
        "id": "2z4u_7QgRmM4",
        "outputId": "997dcb33-ec98-44c5-d435-6d3c23fd8c37"
      },
      "execution_count": null,
      "outputs": [
        {
          "output_type": "stream",
          "name": "stdout",
          "text": [
            "price is under 4500\n",
            "30% discount will be applied\n",
            "30% discount will be applied\n"
          ]
        }
      ]
    },
    {
      "cell_type": "code",
      "source": [
        "a = lambda num:'divisible by 5' if num%5 == 0 else 'not divisible by 5'\n",
        "print(a(105))\n",
        "print(a(13))"
      ],
      "metadata": {
        "colab": {
          "base_uri": "https://localhost:8080/"
        },
        "id": "liYZaVdYgxhd",
        "outputId": "f296fe04-93b0-407e-d2ec-ba5e0c2165fd"
      },
      "execution_count": null,
      "outputs": [
        {
          "output_type": "stream",
          "name": "stdout",
          "text": [
            "divisible by 5\n",
            "not divisible by 5\n"
          ]
        }
      ]
    },
    {
      "cell_type": "code",
      "source": [
        "elig = lambda per:'student is eligible to fill form' if per >= 70 else 'student is not eligible'\n",
        "print(elig(71))\n",
        "print(elig(69))"
      ],
      "metadata": {
        "colab": {
          "base_uri": "https://localhost:8080/"
        },
        "id": "38naiCPhifl9",
        "outputId": "73a5aa01-5525-4b81-9fcd-f67217c03e1e"
      },
      "execution_count": null,
      "outputs": [
        {
          "output_type": "stream",
          "name": "stdout",
          "text": [
            "student is eligible to fill form\n",
            "student is not eligible\n"
          ]
        }
      ]
    },
    {
      "cell_type": "code",
      "source": [
        "# Use of Lambda in higher order function:\n",
        "# Higher order function in lambda which takes other function as input\n",
        "# there are 3 types\n",
        "# - map  - filter  - reduce"
      ],
      "metadata": {
        "id": "O9SNdMowBt_q"
      },
      "execution_count": null,
      "outputs": []
    },
    {
      "cell_type": "code",
      "source": [
        "# map:\n",
        "# map can apply function over each element from an iterable\n",
        "# map (func,iter_var)\n",
        "# typecasting is required\n",
        "\n",
        "#Ex.\n",
        "a = [10,20,30,40,50]\n",
        "#lets add 100 in each\n",
        "add = lambda n:n+100\n",
        "print(list(map(add,a)))\n",
        "print(tuple(map(add,a)))\n"
      ],
      "metadata": {
        "colab": {
          "base_uri": "https://localhost:8080/"
        },
        "id": "miydSQd7B-qj",
        "outputId": "15ce8a8a-6e88-4eaf-8f82-b3293e84f6f4"
      },
      "execution_count": null,
      "outputs": [
        {
          "output_type": "stream",
          "name": "stdout",
          "text": [
            "[110, 120, 130, 140, 150]\n",
            "(110, 120, 130, 140, 150)\n"
          ]
        }
      ]
    },
    {
      "cell_type": "code",
      "source": [
        "# Ex. multiply each element by 10\n",
        "b = [10,20,30,40,50]\n",
        "multi = lambda n: n*10\n",
        "print(list(map(multi,b)))\n"
      ],
      "metadata": {
        "colab": {
          "base_uri": "https://localhost:8080/"
        },
        "id": "xinysVPbECa0",
        "outputId": "eedef978-03eb-4143-a47f-5b6631a0c1be"
      },
      "execution_count": null,
      "outputs": [
        {
          "output_type": "stream",
          "name": "stdout",
          "text": [
            "[100, 200, 300, 400, 500]\n"
          ]
        }
      ]
    },
    {
      "cell_type": "code",
      "source": [
        "x = [10,45,98,65,72,31,76,55]\n",
        "d = lambda i:(i,'even number') if i %2 ==0 else (i,'odd number')\n",
        "print(list(map(d,x)))"
      ],
      "metadata": {
        "colab": {
          "base_uri": "https://localhost:8080/"
        },
        "id": "gAmxdyakE6g3",
        "outputId": "4c9baa09-ab4c-40e6-96ea-b0dca0795c67"
      },
      "execution_count": null,
      "outputs": [
        {
          "output_type": "stream",
          "name": "stdout",
          "text": [
            "[(10, 'even number'), (45, 'odd number'), (98, 'even number'), (65, 'odd number'), (72, 'even number'), (31, 'odd number'), (76, 'even number'), (55, 'odd number')]\n"
          ]
        }
      ]
    },
    {
      "cell_type": "code",
      "source": [
        "# filter: filter(func,iter_var)\n",
        "# filter is a condition based function\n",
        "# In this function we hvae to specify the condition\n",
        "# we can directly pass lambda function thats why lambda is anonymous / nameless\n",
        "#typecasting is needed\n",
        "\n",
        "#Ex. fetch the elements divisible by 5\n",
        "\n",
        "num = [44,78,58,95,135,44,675]\n",
        "# here we supply lambda function directly\n",
        "print(list(filter(lambda n: n%5 == 0,num)))\n",
        "\n"
      ],
      "metadata": {
        "colab": {
          "base_uri": "https://localhost:8080/"
        },
        "id": "r8L7ud71FfmJ",
        "outputId": "dace1b17-9aa2-40e0-8120-dd7ec7e07065"
      },
      "execution_count": null,
      "outputs": [
        {
          "output_type": "stream",
          "name": "stdout",
          "text": [
            "[95, 135, 675]\n"
          ]
        }
      ]
    },
    {
      "cell_type": "code",
      "source": [
        "#Ex. convert into uppercase and get the output in set form\n",
        "a = ['saad','saurabh','akash','mohan','akash','saad']\n",
        "print(set(filter(lambda i: i.upper(),a))) # set does not allows duplicates"
      ],
      "metadata": {
        "colab": {
          "base_uri": "https://localhost:8080/"
        },
        "id": "0SrqWvSvG_Kn",
        "outputId": "11bacb47-ca31-480c-998b-5eb6f61d961d"
      },
      "execution_count": null,
      "outputs": [
        {
          "output_type": "stream",
          "name": "stdout",
          "text": [
            "{'saurabh', 'akash', 'mohan', 'saad'}\n"
          ]
        }
      ]
    },
    {
      "cell_type": "code",
      "source": [
        "#Ex. - -ve\n",
        "num = [44,-85,78,-9,58,-74,95,-12,135,-25,44,675]\n",
        "print(list(filter(lambda i: i<0 ,num)))"
      ],
      "metadata": {
        "colab": {
          "base_uri": "https://localhost:8080/"
        },
        "id": "i7KzdVBGH22v",
        "outputId": "d09ac206-8322-407d-a991-0a391e6eb402"
      },
      "execution_count": null,
      "outputs": [
        {
          "output_type": "stream",
          "name": "stdout",
          "text": [
            "[-85, -9, -74, -12, -25]\n"
          ]
        }
      ]
    },
    {
      "cell_type": "code",
      "source": [
        "# reduce : reduce(fun,iter_var) It used to reduce sequence in single value\n",
        "# reduce is not directly avail like map & filter\n",
        "# we have to take from functools\n",
        "# we can supply directly lambda function\n",
        "# no need of typecasting\n",
        "\n",
        "\n",
        "# Ex. perform multiplication\n",
        "\n",
        "from functools import reduce\n",
        "a = [525,65,895,1005,3]\n",
        "print((reduce(lambda i,y:i*y,a)))\n"
      ],
      "metadata": {
        "colab": {
          "base_uri": "https://localhost:8080/"
        },
        "id": "DNS4i8G0K3wP",
        "outputId": "afc6f237-ca17-4b93-ec84-a3e597242d88"
      },
      "execution_count": null,
      "outputs": [
        {
          "output_type": "stream",
          "name": "stdout",
          "text": [
            "92083753125\n"
          ]
        }
      ]
    },
    {
      "cell_type": "code",
      "source": [
        "\"\"\"\n",
        "map vs filter vs reduce\n",
        "\n",
        "- map can supply function over each element from an iterable\n",
        "- filter is condition based we have to secify a condition\n",
        "- reduce is used to reduce sequence in single value\n",
        "\n",
        "- map and filter requires typecastig\n",
        "- reduce does not requires typecasting\n",
        "\n",
        "- we can directly supply lambda function in filter and reduce\n",
        "- we can't supply the lambda function directly in map\n",
        "\n",
        "- reduce is not directly avail like map and filter we have to import it from functools\n",
        "\n",
        "\n",
        "\"\"\""
      ],
      "metadata": {
        "id": "1tOqS-CduODI"
      },
      "execution_count": null,
      "outputs": []
    },
    {
      "cell_type": "code",
      "source": [
        "num = [44,78,58,95,135,44,675]\n",
        "a = lambda x:(x,'even number') if x%2 ==0 else (x,'odd number')\n",
        "print(list(map(a,num)))"
      ],
      "metadata": {
        "colab": {
          "base_uri": "https://localhost:8080/"
        },
        "id": "1pRH2q4fwNES",
        "outputId": "f779a9bd-979e-45f3-d6d1-ea5321a9bb12"
      },
      "execution_count": 5,
      "outputs": [
        {
          "output_type": "stream",
          "name": "stdout",
          "text": [
            "[(44, 'even number'), (78, 'even number'), (58, 'even number'), (95, 'odd number'), (135, 'odd number'), (44, 'even number'), (675, 'odd number')]\n"
          ]
        }
      ]
    },
    {
      "cell_type": "code",
      "source": [
        "num = [44,78,58,95,135,44,675]\n",
        "print(list(filter(lambda i: i > 90,num)))"
      ],
      "metadata": {
        "colab": {
          "base_uri": "https://localhost:8080/"
        },
        "id": "KOARiFr_y2-u",
        "outputId": "65d302a4-158d-4c25-b321-ef29f1c24540"
      },
      "execution_count": 7,
      "outputs": [
        {
          "output_type": "stream",
          "name": "stdout",
          "text": [
            "[95, 135, 675]\n"
          ]
        }
      ]
    },
    {
      "cell_type": "code",
      "source": [
        "num = [44,78,58,95,135,44,675]\n",
        "print(reduce(lambda i,y:min(i,y),num))"
      ],
      "metadata": {
        "colab": {
          "base_uri": "https://localhost:8080/"
        },
        "id": "jEzDTqjRzjnP",
        "outputId": "c776ec8b-18ef-49f4-8efb-5d05ddb5a715"
      },
      "execution_count": 9,
      "outputs": [
        {
          "output_type": "stream",
          "name": "stdout",
          "text": [
            "44\n"
          ]
        }
      ]
    }
  ]
}